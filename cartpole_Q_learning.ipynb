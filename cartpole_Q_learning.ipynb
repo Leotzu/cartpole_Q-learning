{
  "nbformat": 4,
  "nbformat_minor": 0,
  "metadata": {
    "colab": {
      "name": "cartpole_Q-learning.ipynb",
      "provenance": [],
      "authorship_tag": "ABX9TyMoq6/4R9KUtwx24Yd6rJJJ",
      "include_colab_link": true
    },
    "kernelspec": {
      "name": "python3",
      "display_name": "Python 3"
    },
    "language_info": {
      "name": "python"
    },
    "accelerator": "GPU",
    "gpuClass": "standard"
  },
  "cells": [
    {
      "cell_type": "markdown",
      "metadata": {
        "id": "view-in-github",
        "colab_type": "text"
      },
      "source": [
        "<a href=\"https://colab.research.google.com/github/Leotzu/cartpole_Q-learning/blob/main/cartpole_Q_learning.ipynb\" target=\"_parent\"><img src=\"https://colab.research.google.com/assets/colab-badge.svg\" alt=\"Open In Colab\"/></a>"
      ]
    },
    {
      "cell_type": "code",
      "execution_count": 1,
      "metadata": {
        "id": "g5Kq3zpLmx67"
      },
      "outputs": [],
      "source": [
        "# Dependencies for rendering gym envs in Colab\n",
        "\n",
        "!apt-get install x11-utils > /dev/null 2>&1 \n",
        "!pip install pyglet > /dev/null 2>&1 \n",
        "!apt-get install -y xvfb python-opengl > /dev/null 2>&1\n",
        "!pip install gym pyvirtualdisplay > /dev/null 2>&1"
      ]
    },
    {
      "cell_type": "code",
      "source": [
        "import gym\n",
        "import numpy as np\n",
        "import matplotlib.pyplot as plt\n",
        "from IPython import display as ipydisplay\n",
        "from pyvirtualdisplay import Display\n",
        "import time\n",
        "\n",
        "%matplotlib inline"
      ],
      "metadata": {
        "id": "tPFVq8rjm7Kc"
      },
      "execution_count": 2,
      "outputs": []
    },
    {
      "cell_type": "code",
      "source": [
        "# Initialize Q-table\n",
        "# Our state space = 4\n",
        "# and action space = 2 (left or right)\n",
        "\n",
        "def Qtable(state_space, action_space, bin_size = 30):\n",
        "    # bins \n",
        "    bins = [np.linspace(-4.8, 4.8, bin_size),\n",
        "            np.linspace(-4, 4, bin_size),\n",
        "            np.linspace(-0.418, 0.418, bin_size),\n",
        "            np.linspace(-4, 4, bin_size)]\n",
        "    \n",
        "    # q_table initialized with random values\n",
        "    # q_table shape = (30, 30, 30, 2)\n",
        "    q_table = np.random.uniform(low=-1, high=1, size=([bin_size] * state_space + [action_space]))\n",
        "\n",
        "    return q_table, bins\n",
        "\n",
        "def Discrete(state, bins):\n",
        "    index = []\n",
        "    for i in range(len(state)): index.append(np.digitize(state[i],bins[i]) - 1)\n",
        "    return tuple(index)"
      ],
      "metadata": {
        "id": "D3OJxj6Wm7Mg"
      },
      "execution_count": 3,
      "outputs": []
    },
    {
      "cell_type": "code",
      "source": [
        "def renderEnv(env, q_table, bins):\n",
        "    # start image display\n",
        "    display = Display(visible=0, size=(400, 300))\n",
        "    display.start()\n",
        "\n",
        "    # get initial state observation\n",
        "    current_state = Discrete(env.reset(),bins)\n",
        "\n",
        "    # To decrease render time, only call imshow() once, and just set_data() every iteration\n",
        "    img = plt.imshow(env.render(mode='rgb_array'))\n",
        "    for i in range(75):\n",
        "      action = np.argmax(q_table[current_state])\n",
        "      observation, reward, done, info = env.step(action)\n",
        "      current_state = Discrete(observation, bins)\n",
        "      img.set_data(env.render(mode='rgb_array'))\n",
        "\n",
        "      ipydisplay.clear_output(wait=True)\n",
        "      ipydisplay.display(plt.gcf())\n",
        "      '''\n",
        "      # this will stop the simulation after a sufficiently bad tilt of the pole has been reached\n",
        "      if done:\n",
        "        break\n",
        "      '''\n",
        "    ipydisplay.clear_output(wait=True)\n",
        "    env.close()"
      ],
      "metadata": {
        "id": "crFRXuoqm7Pq"
      },
      "execution_count": 4,
      "outputs": []
    },
    {
      "cell_type": "code",
      "source": [
        "# Train and plot the reward results\n",
        "def Q_learning(q_table, bins, episodes = 5000, alpha = 0.1, gamma = 0.95, epsilon = 0.2, timestep = 5000):\n",
        "    # initializations\n",
        "    rewards = 0\n",
        "    solved = False \n",
        "    steps = 0 \n",
        "    runs = [0]\n",
        "    # data dictionary for plotting results\n",
        "    data = {'max' : [0], 'avg' : [0]}\n",
        "    start = time.time()\n",
        "    \n",
        "    for episode in range(1,episodes+1):\n",
        "        # get initial state observation\n",
        "        current_state = Discrete(env.reset(),bins)\n",
        "        score = 0\n",
        "        done = False\n",
        "        temp_start = time.time()\n",
        "        \n",
        "        while not done:\n",
        "            steps += 1 \n",
        "            ep_start = time.time()\n",
        "                \n",
        "            if np.random.uniform(0,1) < epsilon:\n",
        "                action = env.action_space.sample()\n",
        "            else:\n",
        "                action = np.argmax(q_table[current_state])\n",
        "            \n",
        "            observation, reward, done, info = env.step(action)\n",
        "            next_state = Discrete(observation,bins)\n",
        "\n",
        "            score += reward\n",
        "            \n",
        "            if not done:\n",
        "                max_future_q = np.max(q_table[next_state])\n",
        "                current_q = q_table[current_state+(action,)]\n",
        "                new_q = (1-alpha)*current_q + alpha*(reward + gamma*max_future_q)\n",
        "                q_table[current_state+(action,)] = new_q\n",
        "\n",
        "            current_state = next_state\n",
        "            \n",
        "        # End of the loop update\n",
        "        else:\n",
        "            rewards += score\n",
        "            runs.append(score)\n",
        "            # check if \"solved\" during one of the runs (i.e., stays balanced for a sufficiently long time)\n",
        "            if score > 195 and steps >= 100 and solved == False: # considered as a solved\n",
        "                solved = True\n",
        "                print(f'First solved in episode : {episode} in time {time.time()-ep_start}')\n",
        "        \n",
        "        # Timestep value update\n",
        "        if episode%timestep == 0:\n",
        "            print(f'Episode : {episode} | Avg Reward = {rewards/timestep} | Max Reward  {max(runs)} | Time : {time.time() - ep_start}')\n",
        "            data['max'].append(max(runs))\n",
        "            data['avg'].append(rewards/timestep)\n",
        "            if rewards/timestep >= 195: \n",
        "                print(f'First solved in episode : {episode}')\n",
        "            rewards, runs= 0, [0] \n",
        "\n",
        "    # Plot the maxvand avg reward earned at each timestep\n",
        "    ep = [i for i in range(0,episodes + 1,timestep)]\n",
        "    plt.plot(ep, data['max'], label = 'Max')\n",
        "    plt.plot(ep, data['avg'], label = 'Avg')\n",
        "    plt.xlabel('Episode')\n",
        "    plt.ylabel('Reward')\n",
        "    plt.legend(loc = \"upper left\")\n",
        "        \n",
        "    env.close()"
      ],
      "metadata": {
        "id": "5T8hISaCm7UV"
      },
      "execution_count": 10,
      "outputs": []
    },
    {
      "cell_type": "code",
      "source": [
        "# Create cartpole environment from openAI gym\n",
        "env = gym.make('CartPole-v0')\n",
        "print(env.observation_space.low,\"\\n\",env.observation_space.high)"
      ],
      "metadata": {
        "colab": {
          "base_uri": "https://localhost:8080/"
        },
        "id": "uvieTeTmnOtm",
        "outputId": "f4435549-7d9f-46f8-c46e-02962cf109e2"
      },
      "execution_count": 6,
      "outputs": [
        {
          "output_type": "stream",
          "name": "stdout",
          "text": [
            "[-4.8000002e+00 -3.4028235e+38 -4.1887903e-01 -3.4028235e+38] \n",
            " [4.8000002e+00 3.4028235e+38 4.1887903e-01 3.4028235e+38]\n"
          ]
        }
      ]
    },
    {
      "cell_type": "code",
      "source": [
        "# Initialize Q-table and bins\n",
        "q_table, bins = Qtable(len(env.observation_space.low), env.action_space.n)"
      ],
      "metadata": {
        "id": "4uSUo7LYnOwS"
      },
      "execution_count": null,
      "outputs": []
    },
    {
      "cell_type": "code",
      "source": [
        "# Test policy before training (should be bad)\n",
        "renderEnv(env, q_table, bins)"
      ],
      "metadata": {
        "colab": {
          "base_uri": "https://localhost:8080/",
          "height": 269
        },
        "id": "zYZkX1V6nOyV",
        "outputId": "7008cd3a-3f3a-4517-bee3-685d1a3eea46"
      },
      "execution_count": 8,
      "outputs": [
        {
          "output_type": "display_data",
          "data": {
            "text/plain": [
              "<Figure size 432x288 with 1 Axes>"
            ],
            "image/png": "[encoded data removed]"
          },
          "metadata": {
            "needs_background": "light"
          }
        }
      ]
    },
    {
      "cell_type": "code",
      "source": [
        "# Train\n",
        "\n",
        "# hyperparameters\n",
        "alpha = 0.15 # learning rate\n",
        "gamma = 0.995 # discount rate\n",
        "epsilon = 0.2\n",
        "episodes = 5000\n",
        "\n",
        "Q_learning(q_table, bins, episodes, alpha, gamma, epsilon, timestep = 500)"
      ],
      "metadata": {
        "colab": {
          "base_uri": "https://localhost:8080/",
          "height": 475
        },
        "id": "5h7bqzNinO3j",
        "outputId": "acc9942c-33af-47c1-d0d9-fc709cbd8319"
      },
      "execution_count": 11,
      "outputs": [
        {
          "output_type": "stream",
          "name": "stdout",
          "text": [
            "First solved in episode : 2 in time 4.267692565917969e-05\n",
            "Episode : 500 | Avg Reward = 142.038 | Max Reward  200.0 | Time : 0.0001366138458251953\n",
            "Episode : 1000 | Avg Reward = 155.728 | Max Reward  200.0 | Time : 0.00012993812561035156\n",
            "Episode : 1500 | Avg Reward = 157.672 | Max Reward  200.0 | Time : 6.318092346191406e-05\n",
            "Episode : 2000 | Avg Reward = 162.91 | Max Reward  200.0 | Time : 7.271766662597656e-05\n",
            "Episode : 2500 | Avg Reward = 163.764 | Max Reward  200.0 | Time : 6.29425048828125e-05\n",
            "Episode : 3000 | Avg Reward = 161.434 | Max Reward  200.0 | Time : 6.794929504394531e-05\n",
            "Episode : 3500 | Avg Reward = 171.3 | Max Reward  200.0 | Time : 6.079673767089844e-05\n",
            "Episode : 4000 | Avg Reward = 163.868 | Max Reward  200.0 | Time : 6.4849853515625e-05\n",
            "Episode : 4500 | Avg Reward = 166.538 | Max Reward  200.0 | Time : 6.580352783203125e-05\n",
            "Episode : 5000 | Avg Reward = 170.494 | Max Reward  200.0 | Time : 6.341934204101562e-05\n"
          ]
        },
        {
          "output_type": "display_data",
          "data": {
            "text/plain": [
              "<Figure size 432x288 with 1 Axes>"
            ],
            "image/png": "[encoded data removed]"
          },
          "metadata": {
            "needs_background": "light"
          }
        }
      ]
    },
    {
      "cell_type": "code",
      "source": [
        "# Test policy after training\n",
        "renderEnv(env, q_table, bins)"
      ],
      "metadata": {
        "colab": {
          "base_uri": "https://localhost:8080/",
          "height": 269
        },
        "id": "DgJQU69Im7Xm",
        "outputId": "8ea8419d-1743-445d-c1ba-225b0ce9cc68"
      },
      "execution_count": 12,
      "outputs": [
        {
          "output_type": "display_data",
          "data": {
            "text/plain": [
              "<Figure size 432x288 with 1 Axes>"
            ],
            "image/png": "[encoded data removed]"
          },
          "metadata": {
            "needs_background": "light"
          }
        }
      ]
    },
    {
      "cell_type": "code",
      "source": [
        ""
      ],
      "metadata": {
        "id": "v7aliY2hm7ZY"
      },
      "execution_count": null,
      "outputs": []
    }
  ]
}