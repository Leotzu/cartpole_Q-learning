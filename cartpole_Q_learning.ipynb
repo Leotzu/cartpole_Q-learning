{
  "nbformat": 4,
  "nbformat_minor": 0,
  "metadata": {
    "colab": {
      "name": "cartpole_Q-learning.ipynb",
      "provenance": [],
      "collapsed_sections": [],
      "authorship_tag": "ABX9TyOUQgMsei+x3iGhqzlSNonh",
      "include_colab_link": true
    },
    "kernelspec": {
      "name": "python3",
      "display_name": "Python 3"
    },
    "language_info": {
      "name": "python"
    },
    "gpuClass": "standard"
  },
  "cells": [
    {
      "cell_type": "markdown",
      "metadata": {
        "id": "view-in-github",
        "colab_type": "text"
      },
      "source": [
        "<a href=\"https://colab.research.google.com/github/Leotzu/cartpole_Q-learning/blob/main/cartpole_Q_learning.ipynb\" target=\"_parent\"><img src=\"https://colab.research.google.com/assets/colab-badge.svg\" alt=\"Open In Colab\"/></a>"
      ]
    },
    {
      "cell_type": "code",
      "execution_count": 1,
      "metadata": {
        "id": "g5Kq3zpLmx67"
      },
      "outputs": [],
      "source": [
        "# Dependencies for rendering gym envs in Colab\n",
        "\n",
        "!apt-get install x11-utils > /dev/null 2>&1 \n",
        "!pip install pyglet > /dev/null 2>&1 \n",
        "!apt-get install -y xvfb python-opengl > /dev/null 2>&1\n",
        "!pip install gym pyvirtualdisplay > /dev/null 2>&1"
      ]
    },
    {
      "cell_type": "code",
      "source": [
        "import gym\n",
        "import numpy as np\n",
        "import matplotlib.pyplot as plt\n",
        "from IPython import display as ipydisplay\n",
        "from pyvirtualdisplay import Display\n",
        "import time\n",
        "\n",
        "%matplotlib inline"
      ],
      "metadata": {
        "id": "tPFVq8rjm7Kc"
      },
      "execution_count": 2,
      "outputs": []
    },
    {
      "cell_type": "code",
      "source": [
        "# Initialize Q-table\n",
        "\n",
        "def Qtable(state_space, action_space, bin_size = 30):\n",
        "    # bins is an array that's used to map continuous environment states to distrete Q table states\n",
        "    bins = [np.linspace(-4.8, 4.8, bin_size),\n",
        "            np.linspace(-4, 4, bin_size),\n",
        "            np.linspace(-0.418, 0.418, bin_size),\n",
        "            np.linspace(-4, 4, bin_size)]\n",
        "    \n",
        "    # q_table initialized with random values (a 5 dimensional matrix, with action_space of 2: left or right)\n",
        "    q_table = np.random.uniform(low=-1, high=1, size=([bin_size] * state_space + [action_space]))\n",
        "\n",
        "    return q_table, bins\n",
        "\n",
        "# Converts a continuous state (the position of the cart and pole) to the closest discrete state that is in our Q table\n",
        "def Discrete(state, bins):\n",
        "    index = []\n",
        "    for i in range(len(state)): index.append(np.digitize(state[i],bins[i]) - 1)\n",
        "    return tuple(index)"
      ],
      "metadata": {
        "id": "D3OJxj6Wm7Mg"
      },
      "execution_count": 5,
      "outputs": []
    },
    {
      "cell_type": "code",
      "source": [
        "def renderEnv(env, q_table, bins):\n",
        "    # start image display\n",
        "    display = Display(visible=0, size=(400, 300))\n",
        "    display.start()\n",
        "\n",
        "    # get initial state observation\n",
        "    current_state = Discrete(env.reset(),bins)\n",
        "\n",
        "    # To decrease render time, only call imshow() once, and just set_data() every iteration\n",
        "    img = plt.imshow(env.render(mode='rgb_array'))\n",
        "    for i in range(75):\n",
        "      action = np.argmax(q_table[current_state])\n",
        "      observation, reward, done, info = env.step(action)\n",
        "      current_state = Discrete(observation, bins)\n",
        "      img.set_data(env.render(mode='rgb_array'))\n",
        "\n",
        "      ipydisplay.clear_output(wait=True)\n",
        "      ipydisplay.display(plt.gcf())\n",
        "      '''\n",
        "      # this will stop the simulation after a sufficiently bad tilt of the pole has been reached\n",
        "      if done:\n",
        "        break\n",
        "      '''\n",
        "    ipydisplay.clear_output(wait=True)\n",
        "    env.close()"
      ],
      "metadata": {
        "id": "crFRXuoqm7Pq"
      },
      "execution_count": 6,
      "outputs": []
    },
    {
      "cell_type": "code",
      "source": [
        "# Train and plot the reward results\n",
        "def Q_learning(q_table, bins, episodes = 5000, alpha = 0.1, gamma = 0.95, epsilon = 0.2, timestep = 5000):\n",
        "    # initializations\n",
        "    rewards = 0\n",
        "    solved = False \n",
        "    steps = 0 \n",
        "    runs = [0]\n",
        "    # data dictionary for plotting results\n",
        "    data = {'max' : [0], 'avg' : [0]}\n",
        "    start = time.time()\n",
        "    \n",
        "    for episode in range(1,episodes+1):\n",
        "        # get initial state observation\n",
        "        current_state = Discrete(env.reset(),bins)\n",
        "        score = 0\n",
        "        done = False\n",
        "        temp_start = time.time()\n",
        "        \n",
        "        # The model is \"done\" this training episode when the pole tilts too far over (defined in gym)\n",
        "        while not done:\n",
        "            steps += 1 \n",
        "            ep_start = time.time()\n",
        "            \n",
        "            # input random movement to improve the model at recovering from bad positions\n",
        "            if np.random.uniform(0,1) < epsilon:\n",
        "                # choose left or right randomly\n",
        "                action = env.action_space.sample()\n",
        "            else:\n",
        "                # choose left or right based on the Q table\n",
        "                action = np.argmax(q_table[current_state])\n",
        "            \n",
        "            observation, reward, done, info = env.step(action)\n",
        "            next_state = Discrete(observation,bins)\n",
        "\n",
        "            # +1 reward is given to the agent for every timestep it keeps the pole up\n",
        "            score += reward\n",
        "            \n",
        "            # Update q_table using modified Bellman's Equation\n",
        "            if not done:\n",
        "                max_future_q = np.max(q_table[next_state])\n",
        "                current_q = q_table[current_state+(action,)]\n",
        "                # Bellman's Equation:\n",
        "                new_q = (1-alpha)*current_q + alpha*(reward + gamma*max_future_q)\n",
        "                q_table[current_state+(action,)] = new_q\n",
        "\n",
        "            current_state = next_state\n",
        "            \n",
        "        # End of the loop update\n",
        "        else:\n",
        "            rewards += score\n",
        "            runs.append(score)\n",
        "            # check if \"solved\" during one of the runs (i.e., stays balanced for a sufficiently long time)\n",
        "            # if we don't have this, it will train forever once the model can keep the pole up indefinitely\n",
        "            if score > 195 and steps >= 100 and solved == False:\n",
        "                solved = True\n",
        "                print(f'First solved in episode : {episode} in time {time.time()-ep_start}')\n",
        "        \n",
        "        # Timestep value update\n",
        "        if episode%timestep == 0:\n",
        "            print(f'Episode : {episode} | Avg Reward = {rewards/timestep} | Max Reward  {max(runs)} | Time : {time.time() - ep_start}')\n",
        "            data['max'].append(max(runs))\n",
        "            data['avg'].append(rewards/timestep)\n",
        "            if rewards/timestep >= 195: \n",
        "                print(f'First solved in episode : {episode}')\n",
        "            rewards, runs= 0, [0] \n",
        "\n",
        "    # Plot the max and avg reward earned at each timestep\n",
        "    ep = [i for i in range(0,episodes + 1,timestep)]\n",
        "    plt.plot(ep, data['max'], label = 'Max')\n",
        "    plt.plot(ep, data['avg'], label = 'Avg')\n",
        "    plt.xlabel('Episode')\n",
        "    plt.ylabel('Reward')\n",
        "    plt.legend(loc = \"upper left\")\n",
        "        \n",
        "    env.close()"
      ],
      "metadata": {
        "id": "5T8hISaCm7UV"
      },
      "execution_count": 16,
      "outputs": []
    },
    {
      "cell_type": "code",
      "source": [
        "# Create cartpole environment from openAI gym\n",
        "env = gym.make('CartPole-v0')"
      ],
      "metadata": {
        "id": "uvieTeTmnOtm"
      },
      "execution_count": 10,
      "outputs": []
    },
    {
      "cell_type": "code",
      "source": [
        "# Initialize Q-table and bins\n",
        "q_table, bins = Qtable(len(env.observation_space.low), env.action_space.n)"
      ],
      "metadata": {
        "id": "4uSUo7LYnOwS"
      },
      "execution_count": 11,
      "outputs": []
    },
    {
      "cell_type": "code",
      "source": [
        "# Test policy before training (random movement = bad)\n",
        "renderEnv(env, q_table, bins)"
      ],
      "metadata": {
        "colab": {
          "base_uri": "https://localhost:8080/",
          "height": 269
        },
        "id": "zYZkX1V6nOyV",
        "outputId": "f9012450-9b75-43d1-d26b-2722f07db048"
      },
      "execution_count": 12,
      "outputs": [
        {
          "output_type": "display_data",
          "data": {
            "text/plain": [
              "<Figure size 432x288 with 1 Axes>"
            ],
            "image/png": "[encoded data removed]"
          },
          "metadata": {
            "needs_background": "light"
          }
        }
      ]
    },
    {
      "cell_type": "code",
      "source": [
        "# Train\n",
        "\n",
        "# hyperparameters\n",
        "alpha = 0.15 # learning rate\n",
        "gamma = 0.995 # discount rate\n",
        "# epsilon adds a random movement factor into training so the model gets to recover from bad positions\n",
        "# large epsilon --> more random movements\n",
        "epsilon = 0.2\n",
        "episodes = 5000\n",
        "\n",
        "Q_learning(q_table, bins, episodes, alpha, gamma, epsilon, timestep = 500)"
      ],
      "metadata": {
        "colab": {
          "base_uri": "https://localhost:8080/",
          "height": 475
        },
        "id": "5h7bqzNinO3j",
        "outputId": "eb00015a-1518-4d58-b996-ac490bcda342"
      },
      "execution_count": 20,
      "outputs": [
        {
          "output_type": "stream",
          "name": "stdout",
          "text": [
            "First solved in episode : 1 in time 0.00011420249938964844\n",
            "Episode : 500 | Avg Reward = 177.306 | Max Reward  200.0 | Time : 8.177757263183594e-05\n",
            "Episode : 1000 | Avg Reward = 171.92 | Max Reward  200.0 | Time : 8.0108642578125e-05\n",
            "Episode : 1500 | Avg Reward = 174.166 | Max Reward  200.0 | Time : 7.891654968261719e-05\n",
            "Episode : 2000 | Avg Reward = 170.954 | Max Reward  200.0 | Time : 0.0001678466796875\n",
            "Episode : 2500 | Avg Reward = 174.634 | Max Reward  200.0 | Time : 8.869171142578125e-05\n",
            "Episode : 3000 | Avg Reward = 178.182 | Max Reward  200.0 | Time : 9.441375732421875e-05\n",
            "Episode : 3500 | Avg Reward = 184.366 | Max Reward  200.0 | Time : 8.368492126464844e-05\n",
            "Episode : 4000 | Avg Reward = 180.77 | Max Reward  200.0 | Time : 8.0108642578125e-05\n",
            "Episode : 4500 | Avg Reward = 184.834 | Max Reward  200.0 | Time : 8.058547973632812e-05\n",
            "Episode : 5000 | Avg Reward = 181.288 | Max Reward  200.0 | Time : 8.487701416015625e-05\n"
          ]
        },
        {
          "output_type": "display_data",
          "data": {
            "text/plain": [
              "<Figure size 432x288 with 1 Axes>"
            ],
            "image/png": "[encoded data removed]"
          },
          "metadata": {
            "needs_background": "light"
          }
        }
      ]
    },
    {
      "cell_type": "code",
      "source": [
        "# Test policy after training\n",
        "renderEnv(env, q_table, bins)"
      ],
      "metadata": {
        "colab": {
          "base_uri": "https://localhost:8080/",
          "height": 269
        },
        "id": "DgJQU69Im7Xm",
        "outputId": "e7a085b9-0d9f-4b3f-ff9e-7a0691b800ab"
      },
      "execution_count": 21,
      "outputs": [
        {
          "output_type": "display_data",
          "data": {
            "text/plain": [
              "<Figure size 432x288 with 1 Axes>"
            ],
            "image/png": "[encoded data removed]"
          },
          "metadata": {
            "needs_background": "light"
          }
        }
      ]
    }
  ]
}